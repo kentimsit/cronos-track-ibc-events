{
 "cells": [
  {
   "attachments": {},
   "cell_type": "markdown",
   "metadata": {},
   "source": [
    "# Main notebook"
   ]
  },
  {
   "attachments": {},
   "cell_type": "markdown",
   "metadata": {},
   "source": [
    "# Imports"
   ]
  },
  {
   "cell_type": "code",
   "execution_count": 15,
   "metadata": {},
   "outputs": [],
   "source": [
    "import requests\n",
    "import pprint\n",
    "import bech32"
   ]
  },
  {
   "attachments": {},
   "cell_type": "markdown",
   "metadata": {},
   "source": [
    "# Get all IBC transactions\n",
    "\n",
    "Example:"
   ]
  },
  {
   "cell_type": "code",
   "execution_count": 16,
   "metadata": {},
   "outputs": [
    {
     "name": "stdout",
     "output_type": "stream",
     "text": [
      "Pagination data\n",
      "{'current_page': 86742,\n",
      " 'limit': 20,\n",
      " 'total_page': 86745,\n",
      " 'total_record': 1734897}\n",
      "Example of IBC transaction, originating from Cronos\n",
      "{'amount': '10000000000',\n",
      " 'bridgeFeeAmount': None,\n",
      " 'bridgeFeeDenom': None,\n",
      " 'bridgeType': 'IBC',\n",
      " 'channelId': 'channel-0',\n",
      " 'createdAt': '2023-01-16T21:06:14.935473032Z',\n",
      " 'denom': 'transfer/channel-0/basecro',\n",
      " 'destinationAddress': 'cro1elv88l77ggyq7ury83uph9lhu7fe5n9ccdj548',\n",
      " 'destinationBlockHeight': 9492716,\n",
      " 'destinationBlockTime': '2023-01-16T21:05:58.008406917Z',\n",
      " 'destinationChain': 'Crypto.org-Chain',\n",
      " 'destinationSmartContractAddress': None,\n",
      " 'destinationTransactionId': '50A21EDD45836C3EFB4A1654B60662DACA9256147EC394C572BF7DBD01155074',\n",
      " 'displayAmount': '100.000000000000000000',\n",
      " 'displayDenom': 'CRO',\n",
      " 'id': 1734881,\n",
      " 'sourceAddress': 'crc1guyz8ya4fl094066smacn3l6fp8kyzhtrfxel6',\n",
      " 'sourceBlockHeight': 6523510,\n",
      " 'sourceBlockTime': '2023-01-16T21:05:47.699538813Z',\n",
      " 'sourceChain': 'Cronos',\n",
      " 'sourceSmartContractAddress': None,\n",
      " 'sourceTransactionId': '0x753a0eccf81b1e9b6e432e66c509919bb6bdce653ca9d9267ece8be32a2aebd3',\n",
      " 'status': 'CounterpartyConfirmed',\n",
      " 'updatedAt': '2023-01-16T21:06:36.486415403Z',\n",
      " 'uuid': '67d82050-5aa9-4a5d-9109-f4c901cccd3e'}\n"
     ]
    }
   ],
   "source": [
    "# Manually adjust page number\n",
    "api_response = requests.request(\n",
    "    method=\"get\",\n",
    "    url=\"https://cronos.org/indexing/api/v1/bridges/activities\",\n",
    "    params={\n",
    "        'page': 86742\n",
    "    }\n",
    ")\n",
    "\n",
    "\n",
    "print(\"Pagination data\")\n",
    "pprint.pprint(api_response.json()['pagination'])\n",
    "\n",
    "print(\"Example of IBC transaction, originating from Cronos\")\n",
    "example_tx = {}\n",
    "for tx in api_response.json()['result']:\n",
    "    if tx['sourceChain'] == \"Cronos\":\n",
    "        example_tx = tx\n",
    "        break\n",
    "\n",
    "pprint.pprint(example_tx)\n"
   ]
  },
  {
   "attachments": {},
   "cell_type": "markdown",
   "metadata": {},
   "source": [
    "# Get IBC transactions associated with a specific network and address\n",
    "\n",
    "Example:"
   ]
  },
  {
   "cell_type": "code",
   "execution_count": 17,
   "metadata": {},
   "outputs": [
    {
     "name": "stdout",
     "output_type": "stream",
     "text": [
      "Pagination data\n",
      "{'current_page': 1, 'limit': 20, 'total_page': 2, 'total_record': 23}\n",
      "Confirm that we have found the transaction\n",
      "Found transaction 3F5B7213C584DD17F7B86C6F16BFE053BD3149F546936280AE43F0268E89020A\n"
     ]
    }
   ],
   "source": [
    "network = \"cronos\"\n",
    "account = example_tx['sourceAddress']\n",
    "\n",
    "# Manually adjust page number\n",
    "api_response = requests.request(\n",
    "    method=\"get\",\n",
    "    url=\"https://cronos.org/indexing/api/v1/bridges/\" + network + \"/account/\" + account + \"/activities\",\n",
    "        params={\n",
    "        'page': 1\n",
    "    }\n",
    ")\n",
    "\n",
    "print(\"Pagination data\")\n",
    "pprint.pprint(api_response.json()['pagination'])\n",
    "\n",
    "# Confirm that we have found the transaction\n",
    "\n",
    "print(\"Confirm that we have found the transaction\")\n",
    "for tx in api_response.json()['result']:\n",
    "    if tx['sourceTransactionId'] == tx['sourceTransactionId']:\n",
    "        print(\"Found transaction\", tx['sourceTransactionId'])\n",
    "        break\n"
   ]
  },
  {
   "attachments": {},
   "cell_type": "markdown",
   "metadata": {},
   "source": [
    "# Get IBC transaction by transaction hash"
   ]
  },
  {
   "cell_type": "code",
   "execution_count": 18,
   "metadata": {},
   "outputs": [
    {
     "name": "stdout",
     "output_type": "stream",
     "text": [
      "{'result': {'amount': '10000000000',\n",
      "            'bridgeFeeAmount': None,\n",
      "            'bridgeFeeDenom': None,\n",
      "            'bridgeType': 'IBC',\n",
      "            'channelId': 'channel-0',\n",
      "            'createdAt': '2023-01-16T21:06:14.935473032Z',\n",
      "            'denom': 'transfer/channel-0/basecro',\n",
      "            'destinationAddress': 'cro1elv88l77ggyq7ury83uph9lhu7fe5n9ccdj548',\n",
      "            'destinationBlockHeight': 9492716,\n",
      "            'destinationBlockTime': '2023-01-16T21:05:58.008406917Z',\n",
      "            'destinationChain': 'Crypto.org-Chain',\n",
      "            'destinationSmartContractAddress': None,\n",
      "            'destinationTransactionId': '50A21EDD45836C3EFB4A1654B60662DACA9256147EC394C572BF7DBD01155074',\n",
      "            'displayAmount': '100.000000000000000000',\n",
      "            'displayDenom': 'CRO',\n",
      "            'id': 1734881,\n",
      "            'sourceAddress': 'crc1guyz8ya4fl094066smacn3l6fp8kyzhtrfxel6',\n",
      "            'sourceBlockHeight': 6523510,\n",
      "            'sourceBlockTime': '2023-01-16T21:05:47.699538813Z',\n",
      "            'sourceChain': 'Cronos',\n",
      "            'sourceSmartContractAddress': None,\n",
      "            'sourceTransactionId': '0x753a0eccf81b1e9b6e432e66c509919bb6bdce653ca9d9267ece8be32a2aebd3',\n",
      "            'status': 'CounterpartyConfirmed',\n",
      "            'updatedAt': '2023-01-16T21:06:36.486415403Z',\n",
      "            'uuid': '67d82050-5aa9-4a5d-9109-f4c901cccd3e'}}\n"
     ]
    }
   ],
   "source": [
    "tx_hash = example_tx['sourceTransactionId']\n",
    "\n",
    "# Manually adjust page number\n",
    "api_response = requests.request(\n",
    "    method=\"get\",\n",
    "    url=\"https://cronos.org/indexing/api/v1/bridges/txs/\" + tx_hash,\n",
    ")\n",
    "\n",
    "pprint.pprint(api_response.json())\n",
    "\n"
   ]
  },
  {
   "attachments": {},
   "cell_type": "markdown",
   "metadata": {},
   "source": [
    "# Convert Cronos EVM address into Cosmos address and vice versa"
   ]
  },
  {
   "cell_type": "code",
   "execution_count": 21,
   "metadata": {},
   "outputs": [
    {
     "name": "stdout",
     "output_type": "stream",
     "text": [
      "Input: Cosmos address crc1guyz8ya4fl094066smacn3l6fp8kyzhtrfxel6\n",
      "Output: EVM address is 0x47082393b54fde5abf5a86fb89c7fa484f620aeb\n"
     ]
    }
   ],
   "source": [
    "# Cosmos (Bech32) address\n",
    "bech32_address = example_tx['sourceAddress']\n",
    "print(\"Input: Cosmos address\", bech32_address)\n",
    "\n",
    "_, bz = bech32.bech32_decode(bech32_address)\n",
    "hexbytes=bytes(bech32.convertbits(bz, 5, 8))\n",
    "eth_address = '0x' + hexbytes.hex()\n",
    "print(\"Output: EVM address is\",eth_address)"
   ]
  },
  {
   "cell_type": "code",
   "execution_count": 22,
   "metadata": {},
   "outputs": [
    {
     "name": "stdout",
     "output_type": "stream",
     "text": [
      "Input: EVM address 0x47082393b54fde5abf5a86fb89c7fa484f620aeb\n",
      "EVM address length:  20\n",
      "EVM address:  47082393b54fde5abf5a86fb89c7fa484f620aeb\n",
      "Output: Cosmos address crc1guyz8ya4fl094066smacn3l6fp8kyzhtrfxel6\n"
     ]
    }
   ],
   "source": [
    "# EVM address\n",
    "\n",
    "print(\"Input: EVM address\", eth_address)\n",
    "eth_address_bytes = bytes.fromhex(eth_address[2:])\n",
    "\n",
    "print(\"EVM address length: \", len(eth_address_bytes))\n",
    "print(\"EVM address: \", eth_address_bytes.hex())\n",
    "bz = bech32.convertbits(eth_address_bytes, 8, 5)\n",
    "new_bech32_address = bech32.bech32_encode(\"crc\",bz)\n",
    "print(\"Output: Cosmos address\", new_bech32_address)"
   ]
  }
 ],
 "metadata": {
  "kernelspec": {
   "display_name": "cronos-track-ibc-events-Y__iDQJI-py3.10",
   "language": "python",
   "name": "python3"
  },
  "language_info": {
   "codemirror_mode": {
    "name": "ipython",
    "version": 3
   },
   "file_extension": ".py",
   "mimetype": "text/x-python",
   "name": "python",
   "nbconvert_exporter": "python",
   "pygments_lexer": "ipython3",
   "version": "3.10.2"
  },
  "orig_nbformat": 4,
  "vscode": {
   "interpreter": {
    "hash": "fd97f8ba820a3d0982b59abfe4f58902650f36c37ddacbd2f1eb1df79b8d4dfe"
   }
  }
 },
 "nbformat": 4,
 "nbformat_minor": 2
}
