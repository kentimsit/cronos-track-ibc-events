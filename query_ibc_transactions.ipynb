{
 "cells": [
  {
   "attachments": {},
   "cell_type": "markdown",
   "metadata": {},
   "source": [
    "# Main notebook"
   ]
  },
  {
   "attachments": {},
   "cell_type": "markdown",
   "metadata": {},
   "source": [
    "# Imports"
   ]
  },
  {
   "cell_type": "code",
   "execution_count": null,
   "metadata": {},
   "outputs": [],
   "source": [
    "import requests\n",
    "import pprint\n",
    "import bech32"
   ]
  },
  {
   "attachments": {},
   "cell_type": "markdown",
   "metadata": {},
   "source": [
    "# Get all IBC transactions\n",
    "\n",
    "Example:"
   ]
  },
  {
   "cell_type": "code",
   "execution_count": null,
   "metadata": {},
   "outputs": [],
   "source": [
    "# For example, look for a transaction originating from Cronos chain\n",
    "\n",
    "page_number = 86000\n",
    "tx_found = False\n",
    "example_tx = {}\n",
    "\n",
    "while not tx_found:\n",
    "    api_response = requests.request(\n",
    "        method=\"get\",\n",
    "        url=\"https://cronos.org/indexing/api/v1/bridges/activities\",\n",
    "        params={\n",
    "            'page': page_number\n",
    "        }\n",
    "    )\n",
    "    for tx in api_response.json()['result']:\n",
    "        if tx['sourceChain'] == \"Cronos\":\n",
    "            example_tx = tx\n",
    "            tx_found = True\n",
    "            break\n",
    "    page_number += 1\n",
    "\n",
    "print(\"**Example of IBC transaction, originating from Cronos**\")\n",
    "pprint.pprint(example_tx)\n",
    "print(\"Pagination data\")\n",
    "pprint.pprint(api_response.json()['pagination'])\n"
   ]
  },
  {
   "attachments": {},
   "cell_type": "markdown",
   "metadata": {},
   "source": [
    "# Get IBC transactions associated with a specific network and address\n",
    "\n",
    "Example:"
   ]
  },
  {
   "cell_type": "code",
   "execution_count": null,
   "metadata": {},
   "outputs": [],
   "source": [
    "network = \"cronos\"\n",
    "account = example_tx['sourceAddress']\n",
    "\n",
    "page_number = 1\n",
    "tx_found = False\n",
    "example_tx_2 = {}\n",
    "\n",
    "while not tx_found:\n",
    "    api_response = requests.request(\n",
    "        method=\"get\",\n",
    "        url=\"https://cronos.org/indexing/api/v1/bridges/\" + network + \"/account/\" + account + \"/activities\",\n",
    "            params={\n",
    "            'page': page_number\n",
    "        }\n",
    "    )\n",
    "    for tx in api_response.json()['result']:\n",
    "        if tx['sourceTransactionId'] == tx['sourceTransactionId']:\n",
    "            example_tx_2 = tx\n",
    "            tx_found = True\n",
    "            break\n",
    "    page_number += 1\n",
    "\n",
    "# Confirm that we have found the transaction\n",
    "print(\"Found transaction\", tx['sourceTransactionId'])\n",
    "print(\"Pagination data\")\n",
    "pprint.pprint(api_response.json()['pagination'])\n"
   ]
  },
  {
   "attachments": {},
   "cell_type": "markdown",
   "metadata": {},
   "source": [
    "# Get IBC transaction by transaction hash"
   ]
  },
  {
   "cell_type": "code",
   "execution_count": null,
   "metadata": {},
   "outputs": [],
   "source": [
    "tx_hash = example_tx['sourceTransactionId']\n",
    "\n",
    "api_response = requests.request(\n",
    "    method=\"get\",\n",
    "    url=\"https://cronos.org/indexing/api/v1/bridges/txs/\" + tx_hash,\n",
    ")\n",
    "\n",
    "pprint.pprint(api_response.json())\n",
    "\n"
   ]
  },
  {
   "attachments": {},
   "cell_type": "markdown",
   "metadata": {},
   "source": [
    "# Convert Cronos EVM address into Cosmos address and vice versa\n",
    "\n",
    "## From Cosmos address to EVM address"
   ]
  },
  {
   "cell_type": "code",
   "execution_count": null,
   "metadata": {},
   "outputs": [],
   "source": [
    "# Cosmos (Bech32) address\n",
    "bech32_address = example_tx['sourceAddress']\n",
    "print(\"Input: Cosmos address\", bech32_address)\n",
    "\n",
    "_, bz = bech32.bech32_decode(bech32_address)\n",
    "hexbytes=bytes(bech32.convertbits(bz, 5, 8))\n",
    "eth_address = '0x' + hexbytes.hex()\n",
    "print(\"Output: EVM address is\",eth_address)"
   ]
  },
  {
   "attachments": {},
   "cell_type": "markdown",
   "metadata": {},
   "source": [
    "## From EVM address to Cosmos address"
   ]
  },
  {
   "cell_type": "code",
   "execution_count": null,
   "metadata": {},
   "outputs": [],
   "source": [
    "# EVM address\n",
    "\n",
    "print(\"Input: EVM address\", eth_address)\n",
    "eth_address_bytes = bytes.fromhex(eth_address[2:])\n",
    "\n",
    "print(\"EVM address length: \", len(eth_address_bytes))\n",
    "print(\"EVM address: \", eth_address_bytes.hex())\n",
    "bz = bech32.convertbits(eth_address_bytes, 8, 5)\n",
    "new_bech32_address = bech32.bech32_encode(\"crc\",bz)\n",
    "print(\"Output: Cosmos address\", new_bech32_address)"
   ]
  }
 ],
 "metadata": {
  "kernelspec": {
   "display_name": "cronos-track-ibc-events-Y__iDQJI-py3.10",
   "language": "python",
   "name": "python3"
  },
  "language_info": {
   "codemirror_mode": {
    "name": "ipython",
    "version": 3
   },
   "file_extension": ".py",
   "mimetype": "text/x-python",
   "name": "python",
   "nbconvert_exporter": "python",
   "pygments_lexer": "ipython3",
   "version": "3.10.2"
  },
  "orig_nbformat": 4,
  "vscode": {
   "interpreter": {
    "hash": "fd97f8ba820a3d0982b59abfe4f58902650f36c37ddacbd2f1eb1df79b8d4dfe"
   }
  }
 },
 "nbformat": 4,
 "nbformat_minor": 2
}
